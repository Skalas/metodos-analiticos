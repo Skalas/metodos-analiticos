{
 "metadata": {
  "name": ""
 },
 "nbformat": 3,
 "nbformat_minor": 0,
 "worksheets": [
  {
   "cells": [
    {
     "cell_type": "heading",
     "level": 1,
     "metadata": {},
     "source": [
      "Lecci\u00f3n 1 - Similitud entre conjuntos"
     ]
    },
    {
     "cell_type": "heading",
     "level": 2,
     "metadata": {},
     "source": [
      "Min-Hashing y Locality-Sensitive Hashing"
     ]
    },
    {
     "cell_type": "markdown",
     "metadata": {},
     "source": [
      "### Objetivo\n",
      "El objetivo de esta lecci\u00f3n es mostrar m\u00e9todos que permitan encontrar vecinos cercanos en espacios de alta dimensionalidad de forma eficiente.\n",
      "\n",
      "Nota: Esta lecci\u00f3n est\u00e1 basada en el Cap\u00edtulo 3 del libro Mining of Massive Datasets. Rajaraman, Leskovec and Ullman 2012 y en las notas del curso de M\u00e9todos Anal\u00edticos del 2013 por Felipe Gonzalez."
     ]
    },
    {
     "cell_type": "markdown",
     "metadata": {},
     "source": [
      "#### Dependencias\n",
      "\n",
      "Para esta lecci\u00f3n necesitamos instalar el paquete pyhash\n",
      "\n",
      "```\n",
      "conda install pyhash\n",
      "```\n",
      "\n",
      "Fijamos el display a 5 decimales:"
     ]
    },
    {
     "cell_type": "code",
     "collapsed": false,
     "input": [
      "%precision 5"
     ],
     "language": "python",
     "metadata": {},
     "outputs": [
      {
       "metadata": {},
       "output_type": "pyout",
       "prompt_number": 14,
       "text": [
        "u'%.5f'"
       ]
      }
     ],
     "prompt_number": 14
    },
    {
     "cell_type": "heading",
     "level": 2,
     "metadata": {},
     "source": [
      "Similitud / distancia de Jaccard"
     ]
    },
    {
     "cell_type": "markdown",
     "metadata": {},
     "source": [
      "La similitud de Jaccard de dos conjuntos es el tama\u00f1o de su intersecci\u00f3n dividido entre el tama\u00f1o de su uni\u00f3n.\n",
      "\n",
      "$$Sim(C_1, C_2) = \\frac{||C_1 \\cap C_2 ||}{||C_1 \\cup C_2||}$$\n",
      "\n",
      "_Ejemplo_: \u00bfCu\u00e1l es la similitud de Jaccard entre $C_1 = \\{a, b, d, f, x, y\\}$ y $C_2 = \\{x, z,w, d, a, p\\}$?"
     ]
    },
    {
     "cell_type": "code",
     "collapsed": false,
     "input": [
      "def jaccard(c1, c2):\n",
      "    num = len(c1.intersection(c2))\n",
      "    den = len(c1.union(c2))\n",
      "    return num / float(den)"
     ],
     "language": "python",
     "metadata": {},
     "outputs": [],
     "prompt_number": 13
    },
    {
     "cell_type": "code",
     "collapsed": false,
     "input": [
      "c1 = set(['a','b','d','f','x','y'])\n",
      "c2 = set(['x','z','w','d','a','p'])"
     ],
     "language": "python",
     "metadata": {},
     "outputs": [],
     "prompt_number": 4
    },
    {
     "cell_type": "code",
     "collapsed": false,
     "input": [
      "jaccard(c1,c2)"
     ],
     "language": "python",
     "metadata": {},
     "outputs": [
      {
       "metadata": {},
       "output_type": "pyout",
       "prompt_number": 5,
       "text": [
        "0.33333"
       ]
      }
     ],
     "prompt_number": 5
    },
    {
     "cell_type": "markdown",
     "metadata": {},
     "source": [
      "La distancia de Jaccard se define como: $dist(C_1, C_2) = 1 - Sim(C_1, C_2)$"
     ]
    },
    {
     "cell_type": "heading",
     "level": 2,
     "metadata": {},
     "source": [
      "Similitud entre documentos"
     ]
    },
    {
     "cell_type": "markdown",
     "metadata": {},
     "source": [
      "Dada una colecci\u00f3n de millones de documentos, encontrar pares que sean _casi duplicados_.\n",
      "\n",
      "* __Primer paso:__ Convertir los documentos en conjuntos (Shingling).\n",
      "* __Segundo paso:__ Derivar firmas que preserven la similitud de cada conjunto (Min-hashing).\n",
      "* __Tercer paso:__ Encontrar los pares de firmas que pueden provenir de documentos similares (Locality Sensitive Hashing)."
     ]
    },
    {
     "cell_type": "heading",
     "level": 3,
     "metadata": {},
     "source": [
      "Shingling"
     ]
    },
    {
     "cell_type": "markdown",
     "metadata": {},
     "source": [
      "Para convertir los documentos en conjuntos, vamos partir los documentos en secuencias de caracteres de tama\u00f1o fijo. Estas secuencias son conocidas como _shingles_. \n",
      "\n",
      "Un _k-shingle_ es una secuencia de _k_ caracteres que aparece en un documento. "
     ]
    },
    {
     "cell_type": "code",
     "collapsed": false,
     "input": [
      "def shingle(string, k):\n",
      "    return [string[i:i + k] for i in xrange(len(string) - (k - 1))]"
     ],
     "language": "python",
     "metadata": {},
     "outputs": [],
     "prompt_number": 15
    },
    {
     "cell_type": "markdown",
     "metadata": {},
     "source": [
      "Nota: La funci\u00f3n `xrange` es equivalente a la funci\u00f3n `range` pero genera los elementos conforme va iterando en lugar de almacenarlos todos de una vez."
     ]
    },
    {
     "cell_type": "code",
     "collapsed": false,
     "input": [
      "print shingle(\"Sabado y Domingo\", 3)"
     ],
     "language": "python",
     "metadata": {},
     "outputs": [
      {
       "output_type": "stream",
       "stream": "stdout",
       "text": [
        "['Sab', 'aba', 'bad', 'ado', 'do ', 'o y', ' y ', 'y D', ' Do', 'Dom', 'omi', 'min', 'ing', 'ngo']\n"
       ]
      }
     ],
     "prompt_number": 7
    },
    {
     "cell_type": "markdown",
     "metadata": {},
     "source": [
      "_Ejemplo_: \u00bfC\u00faal es la similitud de Jaccard entre las siguientes dos cadenas? \"el perro persigue al gato\" y \"el perro\n",
      "persigue al conejo\" usando 5-shingle"
     ]
    },
    {
     "cell_type": "code",
     "collapsed": false,
     "input": [
      "s1 = shingle('el perro persigue al gato', 5)\n",
      "s2 = shingle('el perro persigue al conejo', 5)\n",
      "jaccard(set(s1), set(s2))"
     ],
     "language": "python",
     "metadata": {},
     "outputs": [
      {
       "metadata": {},
       "output_type": "pyout",
       "prompt_number": 8,
       "text": [
        "0.62963"
       ]
      }
     ],
     "prompt_number": 8
    },
    {
     "cell_type": "markdown",
     "metadata": {},
     "source": [
      "#### Razonamiento\n",
      "\n",
      "* Los documentos que tienen muchas _shingles_ en com\u00fan, contienen texto similar; independientemente de que los bloques de texto aparezcan en distinto orden.\n",
      "* Es importante elegir una `k` grande de otra forma todos los documentos contendr\u00edan las mismas _shingles_ (el caso extremo es `k=1`).\n",
      "* Se ha observado que `k = 5` es razonable para documentos chicos, `k = 10` es mejor para documentos grandes.\n",
      "\n",
      "#### Funciones hash\n",
      "\n",
      "Una _funci\u00f3n hash_ es un algoritmo que permite generar un resumen de longitud fija a partir de una entrada de datos arbitraria. T\u00edpicamente una funci\u00f3n hash es no-invertible, es decir, no se puede reconstruir el contenido original a partir de la informaci\u00f3n contenida en el resumen. En general las funciones hash est\u00e1n dise\u00f1adas para minimizar la probabilidad de colisi\u00f3n dadas dos entradas distintas. \n",
      "\n",
      "El siguiente ejemplo muestra el resultado de aplicar la funci\u00f3n `hash()` de python a cadenas de caracteres de distinta longitud. Para ver un ejemplo de la implementaci\u00f3n de una funci\u00f3n hash ver la 'Nota 1' al final de la lecci\u00f3n.\n"
     ]
    },
    {
     "cell_type": "code",
     "collapsed": false,
     "input": [
      "print hash('hola')\n",
      "print hash('el perro persigue al gato')\n",
      "print hash('El siguiente ejemplo muestra una funci\u00f3n hash muy simple que mapea una cadena de caracteres de longitud arbitraria a un n\u00famero entero de 4 bytes.')"
     ],
     "language": "python",
     "metadata": {},
     "outputs": [
      {
       "output_type": "stream",
       "stream": "stdout",
       "text": [
        "7799586877594763614\n",
        "5803988330609553052\n",
        "6422655065068680020\n"
       ]
      }
     ],
     "prompt_number": 9
    },
    {
     "cell_type": "markdown",
     "metadata": {},
     "source": [
      "#### Optimizaci\u00f3n del espacio requerido para almacenar los shingles\n",
      "\n",
      "Es posible reducir los requerimientos de memoria al almacenar los _shingles_, si a cada _shingle_ le aplicamos una funci\u00f3n hash que laotransforme a un n\u00famero entero en lugar de utilizar directamente las sub-cadenas. Es importante notar que esto puede reducir la precisi\u00f3n ya que los hashes de las sub-cadenas pueden tener colisiones.\n",
      "\n",
      "__Ejercicio:__ Re-implementa la funci\u00f3n `shingle` para que represente cada teja como un entero. Y comprueba que la similitud entre las dos frases es aproximadamente la misma."
     ]
    },
    {
     "cell_type": "code",
     "collapsed": false,
     "input": [],
     "language": "python",
     "metadata": {},
     "outputs": [],
     "prompt_number": 9
    },
    {
     "cell_type": "heading",
     "level": 3,
     "metadata": {},
     "source": [
      "Min-Hashing"
     ]
    },
    {
     "cell_type": "markdown",
     "metadata": {},
     "source": [
      "El m\u00e9todo anterior nos permite comparar la similitud entre un par de documentos. Sin embargo no es posible almacenar en memoria la lista de _shingles_ para todos los documentos (la lista de _shingles_ es m\u00e1s grande que el tama\u00f1o del documento original). \n",
      "\n",
      "Para solucionar este problema buscamos un m\u00e9todo que nos permita generar firmas peque\u00f1as o res\u00famenes de cada conjunto que preserven la similitud de los conjuntos originales.\n",
      "\n",
      "#### Matriz caracter\u00edstica\n",
      "\n",
      "Empecemos por definir una representaci\u00f3n alternativa donde cada conjunto es un vector en una matr\u00edz booleana $M$, donde los renglones corresponenden a los _shingles_ y las columnas a los _documentos_. Por ejemplo:\n",
      "\n",
      "<table>\n",
      "<tr><th></th><th>$d_1$</th><th>$d_2$</th><th>$d_3$</th></tr>\n",
      "<tr><td>a</td><td>0</td><td>1</td><td>1</td></tr>\n",
      "<tr><td>b</td><td>1</td><td>0</td><td>0</td></tr>\n",
      "<tr><td>c</td><td>1</td><td>1</td><td>0</td></tr>\n",
      "<tr><td>d</td><td>0</td><td>0</td><td>1</td></tr>\n",
      "<tr><td>e</td><td>1</td><td>1</td><td>1</td></tr>\n",
      "<tr><td>f</td><td>0</td><td>1</td><td>1</td></tr>\n",
      "</table>\n",
      "\n",
      "En esta representaci\u00f3n podemos calcular la similitud de Jaccard como: \n",
      "\n",
      "$$||C_1 \\cap C_2|| = \\text{n\u00famero de renglones en que ambas entradas son 1}$$\n",
      "$$||C_1 \\cup C_2|| = \\text{n\u00famero de renglones en que al menos una entrada es 1}$$\n",
      "\n",
      "Es decir el n\u00famero de elementos que ambos conjuntos tienen en com\u00fan, entre el n\u00famero total de elementos \u00fanicos en cada conjuntos.\n",
      "\n",
      "En el ejemplo anterior la similitud de Jaccard es $Sim(d_1, d_2) = \\frac{2}{5} = 0.4$, $Sim(d_2, d_3) = \\frac{3}{5} = 0.6$ y $Sim(d_1, d_3) = \\frac{1}{6} = 0.167$\n",
      "\n"
     ]
    },
    {
     "cell_type": "markdown",
     "metadata": {},
     "source": [
      "\n",
      "#### Min-hashing\n",
      "\n",
      "Para generar una representaci\u00f3n compacta de las columnas de $M$ buscamos una funci\u00f3n hash $h(C)$, que cumpla con 1) $h(C)$ es suficientemente peque\u00f1a para almacenarse en memoria, 2) $h(C)$ preserva la proporci\u00f3n de la similitud, es decir que si $Sim(C_1, C_2)$ es alta, entonces la probabilidad de que $h(C_1) = h(C_2))$ es alta y viceversa.\n",
      "\n",
      "Una funci\u00f3n de hash que preserva la similitud de Jaccard es la funci\u00f3n _minhash_, definida como:\n",
      "\n",
      "* Dada una permutaci\u00f3n aleatoria $\\pi$ de los renglones de $M$\n",
      "* Se define el \"minhash\" de una columna, $h(C)$ como el primer rengl\u00f3n en la que la columna permutada $C_\\pi$ contiene 1.\n",
      "\n",
      "Para el ejemplo anterior dada la permutaci\u00f3n $\\pi = [b,e,a,c,f,d]$, los minhashes de los documentos $d_1$, $d_2$ y $d_3$ son: $h(d_1) = b$, $h(d_2) = e$ y  $h(d_3) = e$.\n",
      "\n",
      "<table>\n",
      "<tr><th></th><th>$d_1$</th><th>$d_2$</th><th>$d_3$</th></tr>\n",
      "<tr><td>b</td><td>__1__</td><td>0</td><td>0</td></tr>\n",
      "<tr><td>e</td><td>1</td><td>__1__</td><td>__1__</td></tr>\n",
      "<tr><td>a</td><td>0</td><td>1</td><td>1</td></tr>\n",
      "<tr><td>c</td><td>1</td><td>1</td><td>0</td></tr>\n",
      "<tr><td>f</td><td>0</td><td>1</td><td>1</td></tr>\n",
      "<tr><td>d</td><td>0</td><td>0</td><td>1</td></tr>\n",
      "</table>\n",
      "\n",
      "\u00bfCu\u00e1les ser\u00edan los minhashes de $d_1$, $d_2$ y $d_3$ dado $\\pi = [c,d,a,f,b,e]$?\n"
     ]
    },
    {
     "cell_type": "markdown",
     "metadata": {},
     "source": [
      "#### \u00bfPor qu\u00e9 la funci\u00f3n minhash preserva la similitud?\n",
      "\n",
      "La raz\u00f3n por la que el m\u00e9todo de min-hashing preserva la similitud entre dos conjuntos es que, dada una permutaci\u00f3n aleatoria de renglones, la probabilidad de que la funci\u00f3n _minhash_ produzca el mismo valor para esos conjuntos es igual a su similitud de Jaccard. \n",
      "\n",
      "$$Pr[h(C_1) = h(C_2)] = Sim(C_1, C_2)$$\n",
      "\n",
      "La intuici\u00f3n es, que al permutar los renglones de los conjuntos los conjuntos que son m\u00e1s similares tendr\u00e1n un mayor n\u00famero de entradas con 1 en las mismas posiciones y por lo tanto una mayor probabilidad de que sus _minhashes_ coincidan.\n",
      " \n",
      "Para mostrar lo anterior: En el caso de dos columnas, cada rengl\u00f3n puede ser de uno de los siguientes tipos:\n",
      "\n",
      "* Tipo A, las dos columnas contienen 1\n",
      "* Tipo B, una de las columnas contiene 1 y la otra 0\n",
      "* Tipo C, las dos columnas contienen 0\n",
      "\n",
      "As\u00ed pues la similitud de Jaccard es equivalente a $Sim(C_1, C_2) = \\frac{\\#a}{\\#a + \\#b}$, donde $\\#a$ y $\\#b$ representan el n\u00famero de renglones de tipo A y B respectivamente. \n",
      "\n",
      "Para el caso de Min-hashing, sabemos que el total de renglones que contienen al menos un $1$ es $\\#a + \\#b$ y que el n\u00famero de renglones en que ambas columnas contienen $1$ es $\\#a$. Si procedemos de arriba hacia abajo en ambas columnas, la probabilidad de observar un rengl\u00f3n de tipo A antes de uno de tipo B es $\\frac{\\#a}{\\#a + \\#b}$ esto es la similitud de Jaccard. Por lo tanto $Pr[h(C_1) = h(C_2)] = Sim(C_1, C_2)$. Nota: los renglones de tipo C no son tomados en cuenta ya que no afectan el calculo de $h(C)$. \n",
      "\n",
      "#### Resumen de una columna\n",
      "\n",
      "Es importante considerar que al aplicar una sola permutaci\u00f3n a cada columna es posible obtener tanto falsos negativos como falsos positivos. Del el ejemplo anterior consideremos si la permutaci\u00f3n es $\\pi = [c,d,a,f,b,e]$ los minhashes de las columnas ser\u00edan $h(d_1) = c$, $h(d_2) = c$ y  $h(d_3) = d$, a\u00fan cuando sabemos que la similitud de Jaccard en mayor entre $d_2$ y $d_3$ que entre $d_1$ y $d_2$.\n",
      "\n",
      "Es posible generar un resumen o _sketch_ que permita aproximar mejor la similitud entre columnas aplicando la funci\u00f3n Min-hash para $n$ distintas permutaciones (en general $n = 100$ es un buen n\u00famero). Por la ley de los grandes n\u00fameros, la fracci\u00f3n de permutaciones en las que coinciden las funciones hash, aproxima adecuadamente la similitud de Jaccard.\n",
      "\n",
      "$$Sim(C_1, C_2) \\approx \\frac{1}{n}\\sum_{x=1}^n{I(h(C_1) = h(C_2))}$$\n",
      "\n",
      "Es importante notar que para $n=100$ e incluso $n=1000$ se genera un espacio mucho menor que la cardinalidad de la union de los conjuntos originales.\n",
      "\n",
      "\u00bfCu\u00e1l ser\u00eda la similitud aproximada utilizando los res\u00famenes dados $\\pi = [b,e,a,c,f,d]$, $\\pi = [c,d,a,f,b,e]$ y $\\pi = [e,f,c,b,d,a]$?"
     ]
    },
    {
     "cell_type": "code",
     "collapsed": false,
     "input": [],
     "language": "python",
     "metadata": {},
     "outputs": [],
     "prompt_number": 9
    },
    {
     "cell_type": "markdown",
     "metadata": {},
     "source": [
      "#### Implementaci\u00f3n\n",
      "\n",
      "En t\u00e9rminos pr\u00e1cticos implementar la permutaci\u00f3n aleatoria de la matriz caracter\u00edstica de millones de documentos es muy costoso. Una alternativa eficiente que genera resultados equivalentes es utilizar $K$ funciones hash distintas que simulen el orden de los renglones para cada permutaci\u00f3n a partir de los valores m\u00ednimos en cada columna.\n",
      "\n",
      "Esto es, aplicar cada una de las funciones hash $k_i$ a los elementos del conjunto $C$ y determinar cual es el valor m\u00ednimo de $k_i(C)$. Bajo el principio anteriormente descrito si dos columnas son similares, los valores m\u00ednimos bajo diferentes funciones hash (sus minhashes) tender\u00e1n a ser similares, y por tanto la similitud de Jaccard entre sus res\u00famenes ser\u00e1 una buena aproximaci\u00f3n a la similitud de Jaccard de las columnas originales. \n",
      "\n",
      "Referencias: [A. Broder'97 Syntactic Clustering of the Web](http://gatekeeper.dec.com/ftp/pub/dec/SRC/publications/broder/positano-final-wpnums.pdf) "
     ]
    },
    {
     "cell_type": "code",
     "collapsed": false,
     "input": [
      "import hashlib\n",
      "import random as pyrand\n",
      "import pyhash\n",
      "import sys\n",
      "\n",
      "K = 100\n",
      "rnd = pyrand.Random(11)\n",
      "seeds = [rnd.randint(0,100000) for _ in range(K)]\n",
      "hasher = pyhash.murmur3_32()\n",
      "\n",
      "def signature(col):\n",
      "    minhashes = [sys.maxint] * K\n",
      "    for i in range(K):\n",
      "        hashes = [hasher(_, seed=seeds[i]) for _ in col]\n",
      "        minhashes[i] = min(hashes)\n",
      "    return minhashes"
     ],
     "language": "python",
     "metadata": {},
     "outputs": [],
     "prompt_number": 10
    },
    {
     "cell_type": "markdown",
     "metadata": {},
     "source": [
      "Supongamos que tenemos una base de datos de documentos y queremos conocer, dado un nuevo documento si existe uno similar en la base de datos.\n",
      "\n",
      "A manera de ejemplo tenemos una peque\u00f1a base de datos se compone de cuatro frases, a las cuales aplicamos el proceso arriba descrito:"
     ]
    },
    {
     "cell_type": "code",
     "collapsed": false,
     "input": [
      "cols = ['el perro persigue al gato', 'el gato persigue al perro', 'la vaca come pasto', 'el perro persigue al conejos']\n",
      "# Generar las tejas\n",
      "shingled = [shingle(_, 5) for _ in cols]\n",
      "# Calcular la matriz de res\u00famenes\n",
      "signatures = [signature(col) for col in shingled]"
     ],
     "language": "python",
     "metadata": {},
     "outputs": [],
     "prompt_number": 11
    },
    {
     "cell_type": "markdown",
     "metadata": {},
     "source": [
      "Cuando queremos comparar un nuevo documento podr\u00edamos comparar contra las tejas originales almacenadas en memoria (por ser un conjunto peque\u00f1o)"
     ]
    },
    {
     "cell_type": "code",
     "collapsed": false,
     "input": [
      "s = shingle('el perro persigue al conejo', 5)\n",
      "[jaccard(set(s),set(_)) for _ in shingled]"
     ],
     "language": "python",
     "metadata": {},
     "outputs": [
      {
       "metadata": {},
       "output_type": "pyout",
       "prompt_number": 12,
       "text": [
        "[0.62963, 0.41935, 0.00000, 0.95833]"
       ]
      }
     ],
     "prompt_number": 12
    },
    {
     "cell_type": "markdown",
     "metadata": {},
     "source": [
      "A continuaci\u00f3n utilizamos la matriz de res\u00famenes obteniendo resultados equivalentes."
     ]
    },
    {
     "cell_type": "code",
     "collapsed": false,
     "input": [
      "[jaccard(set(signature(s)),set(_)) for _ in signatures]"
     ],
     "language": "python",
     "metadata": {},
     "outputs": [
      {
       "metadata": {},
       "output_type": "pyout",
       "prompt_number": 13,
       "text": [
        "[0.47059, 0.29870, 0.00000, 0.85185]"
       ]
      }
     ],
     "prompt_number": 13
    },
    {
     "cell_type": "markdown",
     "metadata": {},
     "source": [
      "\u00bfPor qu\u00e9 cuando la similitud de Jaccard entre dos columnas es cero, _min-hashing_ da siempre una estimaci\u00f3n correcta?"
     ]
    },
    {
     "cell_type": "code",
     "collapsed": false,
     "input": [],
     "language": "python",
     "metadata": {},
     "outputs": [],
     "prompt_number": 13
    },
    {
     "cell_type": "heading",
     "level": 3,
     "metadata": {},
     "source": [
      "Locality-Sensitive Hashing"
     ]
    },
    {
     "cell_type": "markdown",
     "metadata": {},
     "source": [
      "En la secci\u00f3n anterior generamos res\u00famenes para cada conjunto de cardinalidad mucho menor que los conjuntos originales. Sin embrago para colecciones el orden de millones o miles de millones de documentos a\u00fan tenemos que comparar el resumen de cada nuevo documento con el resumen los documentos almacenados para determinar que tan similar es a cada uno de ellos. Esta tarea se vuelve casi imposible si queremos encontrar los elementos m\u00e1s similares entre todos los pares, ya que esto es un problema de orden $O(n^2)$.\n",
      "\n",
      "Nuestro objetivo es solo calcular la similitud entre los pares m\u00e1s similares arriba de cierto umbral $t$ con el fin de reducir sustancialmente el tiempo requerido para calcular los conjuntos de documentos que son similares entre si. El marco te\u00f3rico general para este enfoque es conocido como Locality Sensitive Hashing.  \n",
      "\n",
      "En el caso de Min-hashing la idea es aplicar una funci\u00f3n hash a las columnas de _minhash_, de tal forma que los pares de documentos que tengan un hash com\u00fan se consideren _pares candidato_. \n",
      "\n",
      "Una forma eficiente de generar los _pares candidato_ es dividir la matriz de res\u00famenes en $b$ bandas de $r$ renglones y mapear cada banda a $k$ cubetas (en nuestro caso volver a aplicar una funci\u00f3n hash). Los _pares candidato_ ser\u00e1n aquellos que coincidan a la misma cubeta en al menos una banda. Los par\u00e1metros $b$ y $r$ permiten ajustar la precisi\u00f3n del m\u00e9todo.\n",
      "\n",
      "La intuici\u00f3n de este m\u00e9todo es que los hashes que coinciden en una cubeta fueron generados por columnas id\u00e9nticas en esa banda, y que mientras m\u00e1s similares sean dos columnas es m\u00e1s probable que coincidan en al menos una banda."
     ]
    },
    {
     "cell_type": "markdown",
     "metadata": {},
     "source": [
      "#### An\u00e1lisis\n",
      "\n",
      "La probabilidad de que las firmas de dos documentos sean _pares candidatos_ se deriva de la siguiente forma:\n",
      "\n",
      "Recordemos que $Pr[h(C_1) = h(C_2)] = Sim(C_1, C_2)$, por lo tanto, si la similitud de Jaccard entre dos documentos es $s$, la probabilidad de que los minhashes entre esos documentos coincidan en un rengl\u00f3n de la matriz de res\u00famenes es $s$: \n",
      "\n",
      "* La probabilidad de que los minhashes coincidan en todos los renglones $r$ de una banda es $s^r$.\n",
      "* La probabilidad de que ninguno de los nuevos $b$ hashes coincida es $(1 - s^r)^b$.\n",
      "* Por lo tanto la probabilidad de que al menos uno de los nuevos hashes coincida es $ 1- (1 - s^r)^b$"
     ]
    },
    {
     "cell_type": "markdown",
     "metadata": {},
     "source": [
      "##### Ejemplo\n",
      "\n",
      "Dada una matriz de 100 renglones y una similitud del 80%, para $b = 20$ y $r = 5$, la probabilidad de que los 5 renglones de una banda coincidan $s^r$ es:"
     ]
    },
    {
     "cell_type": "code",
     "collapsed": false,
     "input": [
      "0.8 ** 5"
     ],
     "language": "python",
     "metadata": {},
     "outputs": [
      {
       "metadata": {},
       "output_type": "pyout",
       "prompt_number": 14,
       "text": [
        "0.32768"
       ]
      }
     ],
     "prompt_number": 14
    },
    {
     "cell_type": "markdown",
     "metadata": {},
     "source": [
      "Y de que no coincidan $(1 - s^r)$ es:"
     ]
    },
    {
     "cell_type": "code",
     "collapsed": false,
     "input": [
      "(1 - 0.8 ** 5)"
     ],
     "language": "python",
     "metadata": {},
     "outputs": [
      {
       "metadata": {},
       "output_type": "pyout",
       "prompt_number": 15,
       "text": [
        "0.67232"
       ]
      }
     ],
     "prompt_number": 15
    },
    {
     "cell_type": "markdown",
     "metadata": {},
     "source": [
      "Dado que tenemos 20 bandas de 5 renglones la probabilidad de que ninguna banda coincida  $(1 - s^r)^b$ es:"
     ]
    },
    {
     "cell_type": "code",
     "collapsed": false,
     "input": [
      "(1 - 0.8 ** 5)**20"
     ],
     "language": "python",
     "metadata": {},
     "outputs": [
      {
       "metadata": {},
       "output_type": "pyout",
       "prompt_number": 16,
       "text": [
        "0.00036"
       ]
      }
     ],
     "prompt_number": 16
    },
    {
     "cell_type": "markdown",
     "metadata": {},
     "source": [
      "Es decir, aproximadamente 1 de cada 2500 pares de documentos que sean hasta 80% similares no ser\u00e1n _pares candidato_. \n",
      "\n",
      "Finalmente, la probabilidad de que al menos una banda coincida  $1 - (1 - s^r)^b$ para un par de documentos con similitud del 80% es:"
     ]
    },
    {
     "cell_type": "code",
     "collapsed": false,
     "input": [
      "1 - (1 - 0.8 ** 5)**20"
     ],
     "language": "python",
     "metadata": {},
     "outputs": [
      {
       "metadata": {},
       "output_type": "pyout",
       "prompt_number": 17,
       "text": [
        "0.99964"
       ]
      }
     ],
     "prompt_number": 17
    },
    {
     "cell_type": "markdown",
     "metadata": {},
     "source": [
      "Si graficamos la probabilidad de que las firmas de dos documentos sean _pares candidatos_ para distintos grados de similitud podemos ver que se forma una curva con forma de _S_. En esta curva, la probabilidad de que un par de documentos sean _pares candidatos_ ser\u00e1 mayor a mayor similitud de Jaccard y menor a menor similitud de Jaccard."
     ]
    },
    {
     "cell_type": "code",
     "collapsed": false,
     "input": [
      "%pylab inline"
     ],
     "language": "python",
     "metadata": {},
     "outputs": [
      {
       "output_type": "stream",
       "stream": "stdout",
       "text": [
        "Populating the interactive namespace from numpy and matplotlib\n"
       ]
      }
     ],
     "prompt_number": 18
    },
    {
     "cell_type": "code",
     "collapsed": false,
     "input": [
      "s = arange(0,1,0.01)\n",
      "y0 = 1 - (1 - s ** 5) ** 20\n",
      "y1 = 1 - (1 - s ** 10) ** 10\n",
      "y2 = 1 - (1 - s ** 2) ** 50"
     ],
     "language": "python",
     "metadata": {},
     "outputs": [],
     "prompt_number": 19
    },
    {
     "cell_type": "code",
     "collapsed": false,
     "input": [
      "figure()\n",
      "plot(s, y0, 'r')\n",
      "plot(s, y1, 'g')\n",
      "plot(s, y2, 'b')\n",
      "xlabel('Similitud (Jaccard)')\n",
      "ylabel('Probabilidad de ser candidato')\n",
      "show()"
     ],
     "language": "python",
     "metadata": {},
     "outputs": [
      {
       "metadata": {},
       "output_type": "display_data",
       "png": "[encoded data removed]",
       "text": [
        "<matplotlib.figure.Figure at 0x1062f13d0>"
       ]
      }
     ],
     "prompt_number": 20
    },
    {
     "cell_type": "markdown",
     "metadata": {},
     "source": [
      "Podemos observar que el umbral $t$ a partir del cual la probabilidad de ser _pares candidato_ es mayor a $1/2$ es distinto para distintos par\u00e1metros de $b$ y $r$. Un valor apr\u00f3ximado del umbral es $(1/b)^{1/r}$.\n",
      "\n",
      "Ejercicio: derivar por qu\u00e9 $(1/b)^{1/r}$ aproxima el umbral $t$ y comparar con los valores de $b$ y $r$ utilizados en la gr\u00e1fica."
     ]
    },
    {
     "cell_type": "code",
     "collapsed": false,
     "input": [],
     "language": "python",
     "metadata": {},
     "outputs": [],
     "prompt_number": 20
    },
    {
     "cell_type": "markdown",
     "metadata": {},
     "source": [
      "Para entender aprender m\u00e1s sobre LSH consulta el cap\u00edtulo 3.6 del libro Mining of Massive Datasets "
     ]
    },
    {
     "cell_type": "markdown",
     "metadata": {},
     "source": [
      "#### Implementaci\u00f3n\n",
      "\n",
      "Para implementar LSH, separamos las columnas de min-hashes en bandas y mandamos el hash de cada banda a la cubeta que le corresponde."
     ]
    },
    {
     "cell_type": "code",
     "collapsed": false,
     "input": [
      "import hashlib\n",
      "import random as pyrand\n",
      "import pyhash\n",
      "import sys\n",
      "\n",
      "hasher = pyhash.murmur3_32()\n",
      "rnd = pyrand.Random(11)\n",
      "band_seed = rnd.randint(0,100000)\n",
      "\n",
      "def signature2(col, b, r):\n",
      "    K = b * r\n",
      "    rnd = pyrand.Random(11)\n",
      "    seeds = [rnd.randint(0,100000) for _ in range(K)]\n",
      "    minhashes = [sys.maxint] * K\n",
      "    for i in range(K):\n",
      "        hashes = [hasher(_, seed=seeds[i]) for _ in col]\n",
      "        minhashes[i] = min(hashes)\n",
      "    return minhashes\n",
      "\n",
      "def lsh(col, b, r):\n",
      "    minhashes = signature2(col, b, r)\n",
      "    bands = [] \n",
      "    for i in xrange(0, len(minhashes), r):\n",
      "        band = str(minhashes[i:i + r]) \n",
      "        h = str(i) + '-' + str(hasher(band, seed=band_seed)) \n",
      "        bands.append(h)\n",
      "    return bands"
     ],
     "language": "python",
     "metadata": {},
     "outputs": [],
     "prompt_number": 10
    },
    {
     "cell_type": "markdown",
     "metadata": {},
     "source": [
      "A fin de que los hashes de una banda no tengan colisiones con hashes de otras bandas prefijamos el hash con el n\u00famero de banda."
     ]
    },
    {
     "cell_type": "code",
     "collapsed": false,
     "input": [
      "lsh(shingle('el perro come carne',5),20,5)"
     ],
     "language": "python",
     "metadata": {},
     "outputs": [
      {
       "metadata": {},
       "output_type": "pyout",
       "prompt_number": 32,
       "text": [
        "['0-1861235366',\n",
        " '5-2309783512',\n",
        " '10-2415092328',\n",
        " '15-1895517411',\n",
        " '20-2827795853',\n",
        " '25-805185373',\n",
        " '30-2446715809',\n",
        " '35-1253509979',\n",
        " '40-3256103102',\n",
        " '45-2641870886',\n",
        " '50-134433551',\n",
        " '55-1441343526',\n",
        " '60-266708131',\n",
        " '65-317375494',\n",
        " '70-1648295830',\n",
        " '75-368999501',\n",
        " '80-741240678',\n",
        " '85-3975053756',\n",
        " '90-2465026918',\n",
        " '95-3445897786']"
       ]
      }
     ],
     "prompt_number": 32
    },
    {
     "cell_type": "code",
     "collapsed": false,
     "input": [
      "lsh(shingle('el perro come carne fresca',5),20,5)"
     ],
     "language": "python",
     "metadata": {},
     "outputs": [
      {
       "metadata": {},
       "output_type": "pyout",
       "prompt_number": 34,
       "text": [
        "['0-81722849',\n",
        " '5-1636405941',\n",
        " '10-2415092328',\n",
        " '15-2603777761',\n",
        " '20-3761706869',\n",
        " '25-1336805964',\n",
        " '30-3458342241',\n",
        " '35-1253509979',\n",
        " '40-3878603289',\n",
        " '45-4020910772',\n",
        " '50-1911978815',\n",
        " '55-3301073492',\n",
        " '60-2170549621',\n",
        " '65-317375494',\n",
        " '70-1648295830',\n",
        " '75-368999501',\n",
        " '80-1888752270',\n",
        " '85-2627202614',\n",
        " '90-1306860017',\n",
        " '95-551722307']"
       ]
      }
     ],
     "prompt_number": 34
    },
    {
     "cell_type": "markdown",
     "metadata": {},
     "source": [
      "A continuaci\u00f3n analizamos cu\u00e1les documentos son _posibles candidatos_ en la base de datos que definimos anteriormente y comparamos con su similitud de Jaccard real para distintos valores de $b$ y $r$."
     ]
    },
    {
     "cell_type": "code",
     "collapsed": false,
     "input": [
      "docs = ['el perro persigue al gato', 'el gato persigue al perro', 'la vaca come pasto', 'el perro persigue al conejos']\n",
      "\n",
      "def test(new, b, r):\n",
      "    t = (1 / float(b)) ** (1/ float(r))\n",
      "    print 'Umbral ~ %d%%' % (t * 100)\n",
      "    lshd = lsh(new, b, r)\n",
      "    for doc in docs:\n",
      "        shingled = shingle(doc, 5)\n",
      "        hashed = lsh(shingled, b, r)\n",
      "        print '> %s' % doc\n",
      "        print ('\\tjaccard: %.4f, posible candidato: %s') % \\\n",
      "                (jaccard(set(new), set(shingled)), \n",
      "                 len(set(lshd).intersection(set(hashed)))>0)   \n",
      "\n",
      "comp = shingle('el perro persigue al conejo', 5)\n",
      "test(comp, 20, 5)"
     ],
     "language": "python",
     "metadata": {},
     "outputs": [
      {
       "output_type": "stream",
       "stream": "stdout",
       "text": [
        "Umbral ~ 54%\n",
        "> el perro persigue al gato\n",
        "\tjaccard: 0.6296, posible candidato: True\n",
        "> el gato persigue al perro\n",
        "\tjaccard: 0.4194, posible candidato: False\n",
        "> la vaca come pasto\n",
        "\tjaccard: 0.0000, posible candidato: False\n",
        "> el perro persigue al conejos\n",
        "\tjaccard: 0.9583, posible candidato: True\n"
       ]
      }
     ],
     "prompt_number": 38
    },
    {
     "cell_type": "code",
     "collapsed": false,
     "input": [
      "test(comp, 10, 10)"
     ],
     "language": "python",
     "metadata": {},
     "outputs": [
      {
       "output_type": "stream",
       "stream": "stdout",
       "text": [
        "Umbral ~ 79%\n",
        "> el perro persigue al gato\n",
        "\tjaccard: 0.6296, posible candidato: False\n",
        "> el gato persigue al perro\n",
        "\tjaccard: 0.4194, posible candidato: False\n",
        "> la vaca come pasto\n",
        "\tjaccard: 0.0000, posible candidato: False\n",
        "> el perro persigue al conejos\n",
        "\tjaccard: 0.9583, posible candidato: True\n"
       ]
      }
     ],
     "prompt_number": 39
    },
    {
     "cell_type": "code",
     "collapsed": false,
     "input": [
      "test(comp, 50, 2)"
     ],
     "language": "python",
     "metadata": {},
     "outputs": [
      {
       "output_type": "stream",
       "stream": "stdout",
       "text": [
        "Umbral ~ 14%\n",
        "> el perro persigue al gato\n",
        "\tjaccard: 0.6296, posible candidato: True\n",
        "> el gato persigue al perro\n",
        "\tjaccard: 0.4194, posible candidato: True\n",
        "> la vaca come pasto\n",
        "\tjaccard: 0.0000, posible candidato: False\n",
        "> el perro persigue al conejos\n",
        "\tjaccard: 0.9583, posible candidato: True\n"
       ]
      }
     ],
     "prompt_number": 40
    },
    {
     "cell_type": "markdown",
     "metadata": {},
     "source": [
      "El n\u00famero de bandas y funciones hash se puede resolver num\u00e9ricamente utilizando la siguiente funci\u00f3n."
     ]
    },
    {
     "cell_type": "code",
     "collapsed": false,
     "input": [
      "    # Adapted from \n",
      "    # https://github.com/twitter/algebird/blob/master/algebird-core/src/main/scala/com/twitter/algebird/MinHasher.scala\n",
      "    # Numerically solve the inverse of threshold, given numBands*numRows\n",
      "    import math\n",
      "    def pick_bands(threshold, hashes):\n",
      "        target = hashes * -1 * math.log(threshold)\n",
      "        bands = 1\n",
      "        while bands * math.log(bands) < target:\n",
      "          bands += 1\n",
      "        return bands\n",
      "\n",
      "    def pick_hashes_and_bands(threshold, max_hashes):\n",
      "        bands = pick_bands(threshold, max_hashes)\n",
      "        hashes = (max_hashes / bands) * bands\n",
      "        return (hashes, bands)"
     ],
     "language": "python",
     "metadata": {},
     "outputs": [],
     "prompt_number": 6
    },
    {
     "cell_type": "code",
     "collapsed": false,
     "input": [
      "pick_hashes_and_bands(0.9, 100)"
     ],
     "language": "python",
     "metadata": {},
     "outputs": [
      {
       "metadata": {},
       "output_type": "pyout",
       "prompt_number": 7,
       "text": [
        "(96, 6)"
       ]
      }
     ],
     "prompt_number": 7
    },
    {
     "cell_type": "heading",
     "level": 3,
     "metadata": {},
     "source": [
      "Tarea"
     ]
    },
    {
     "cell_type": "markdown",
     "metadata": {},
     "source": [
      "Para realmente aprovechar la eficiencia del m\u00e9todo descrito es importante almacenar los valores generados por LSH en un \u00edndice de tal forma que podamos encontrar los documentos similares en tiempo menor a $O(N)$.\n",
      "\n",
      "La tarea consiste en implementar los m\u00e9todos de la clase LSH. Esta clase se construye con el umbral deseado y el tama\u00f1o de los shingles y tiene dos m\u00e9todos `create_db(self, docs)` para inicializar la base de datos y `similar(self, doc)` que regresa una lista con los ids de los documentos similares.\n",
      "\n",
      "La clase debe implementar la versi\u00f3n eficiente de LSH, donde primero se obtienen solo aquellos documentos que son candidatos y sobre ellos se prueba si su similitud real es mayor al umbral. Se sugiere utilizar los m\u00e9todos definidos en la lecci\u00f3n para llevar a cabo el ejercicio.\n",
      "\n",
      "Tip: Es posible implementar un `multimap` (donde cada llave mapea a una lista) utilizando:\n",
      "\n",
      "```python\n",
      "from collections import defaultdict\n",
      "multimap = defaultdict(list)\n",
      "```"
     ]
    },
    {
     "cell_type": "code",
     "collapsed": false,
     "input": [
      "from collections import defaultdict\n",
      "\n",
      "class LSH(object):\n",
      "    \n",
      "    def __init__(self, threshold, k):\n",
      "        self.k = k\n",
      "        hashes, bands = pick_hashes_and_bands(threshold, 100)\n",
      "        self.b = bands\n",
      "        self.r = hashes / bands\n",
      "\n",
      "    def create_db(self, docs):\n",
      "        b=self.b\n",
      "        r=self.r\n",
      "        t=[]\n",
      "        for i in docs:\n",
      "            print i \n",
      "            t.append(lsh(shingle(docs[i],5),b,r))\n",
      "            print t\n",
      "        #self.db = \n",
      "        pass\n",
      "\n",
      "    def similar(self, doc):\n",
      "        b=self.b\n",
      "        r=self.r\n",
      "        t = (1 / float(b)) ** (1/ float(r))\n",
      "        return []\n",
      "\n",
      "docs = {1:'el perro persigue al gato', \n",
      "        2:'el gato persigue al perro', \n",
      "        3:'la vaca come pasto', \n",
      "        4:'el perro persigue al conejos'}\n",
      "\n",
      "lsher = LSH(0.9, 5)\n",
      "lsher.create_db(docs)\n",
      "lsher.similar('el perro persigue al conejo')  "
     ],
     "language": "python",
     "metadata": {},
     "outputs": [
      {
       "output_type": "stream",
       "stream": "stdout",
       "text": [
        "1\n",
        "[['0-735239179', '16-3385496128', '32-637573732', '48-1830905541', '64-15547290', '80-3769186341']]\n",
        "2\n",
        "[['0-735239179', '16-3385496128', '32-637573732', '48-1830905541', '64-15547290', '80-3769186341'], ['0-3309156680', '16-2471561411', '32-2930294419', '48-2627614193', '64-2698302010', '80-1512895684']]\n",
        "3\n",
        "[['0-735239179', '16-3385496128', '32-637573732', '48-1830905541', '64-15547290', '80-3769186341'], ['0-3309156680', '16-2471561411', '32-2930294419', '48-2627614193', '64-2698302010', '80-1512895684'], ['0-1390548222', '16-2338999750', '32-1151695969', '48-2039645244', '64-2751725983', '80-145499676']]\n",
        "4\n",
        "[['0-735239179', '16-3385496128', '32-637573732', '48-1830905541', '64-15547290', '80-3769186341'], ['0-3309156680', '16-2471561411', '32-2930294419', '48-2627614193', '64-2698302010', '80-1512895684'], ['0-1390548222', '16-2338999750', '32-1151695969', '48-2039645244', '64-2751725983', '80-145499676'], ['0-1386959669', '16-2442069843', '32-2576164663', '48-1331061565', '64-918557786', '80-616208352']]\n"
       ]
      },
      {
       "metadata": {},
       "output_type": "pyout",
       "prompt_number": 18,
       "text": [
        "[]"
       ]
      }
     ],
     "prompt_number": 18
    },
    {
     "cell_type": "markdown",
     "metadata": {},
     "source": [
      "\n",
      "\n"
     ]
    },
    {
     "cell_type": "markdown",
     "metadata": {},
     "source": [
      "#### Nota 1\n",
      "\n",
      "Esta nota muesta la implementaci\u00f3n de una funci\u00f3n hash para el tipo `String` como est\u00e1 implementada en algunas versiones de python, http://effbot.org/zone/python-hash.htm. \n",
      "\n",
      "Es muy importante notar que esta no es una funci\u00f3n hash de tipo criptogr\u00e1fico, para m\u00e1s informaci\u00f3n ver http://en.wikipedia.org/wiki/Cryptographic_hash_function."
     ]
    },
    {
     "cell_type": "code",
     "collapsed": false,
     "input": [
      "def c_mul(a, b):\n",
      "    #C type multiplication\n",
      "    return eval(hex((int(a) * b) & 0xFFFFFFFF)[:-1])\n",
      "\n",
      "def simple_hash(string):\n",
      "    h = ord(string[0]) << 7\n",
      "    for char in string:\n",
      "        h = c_mul(1000003, h) ^ ord(char)\n",
      "    h = h ^ len(string)\n",
      "    return h\n",
      "\n",
      "print simple_hash('Esta nota muesta la implementaci\u00f3n de una funci\u00f3n hash para string como se implementa en python.')"
     ],
     "language": "python",
     "metadata": {},
     "outputs": [
      {
       "output_type": "stream",
       "stream": "stdout",
       "text": [
        "144283000\n"
       ]
      }
     ],
     "prompt_number": 30
    }
   ],
   "metadata": {}
  }
 ]
}